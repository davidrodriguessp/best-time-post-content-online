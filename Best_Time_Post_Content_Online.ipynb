{
 "cells": [
  {
   "cell_type": "markdown",
   "metadata": {},
   "source": [
    "![image](https://computerworld.com.br/wp-content/uploads/2020/02/Setor-de-Health-Tech-cresce-no-Brasil.jpg)\n",
    "# Best Time to Post Technology Content Online\n",
    "\n",
    "## Introduction\n",
    "\n",
    "Technology evolves quickly and requires constant update for the ones following the subject. Professionals and journalists that produce content related to the matter should not only provide relevant information, but also choose the right medium and time to share it.\n",
    "\n",
    "The objective of this analysis is to verify the best time of the day to post technology content online, in order to maximize the level of reach, engagement and comments.\n",
    "\n",
    "We analyzed a dataset with posting information from the technology website Hacker News. It allows authors to post questions, projects and products. The website users - mainly technoloty and start-up professionals - can comment and vote upon contents. The dataset was extracted from the website [kaggle](https://www.kaggle.com/) and can be found [here](https://www.kaggle.com/keplaxo/hacker-news). \n",
    "\n",
    "The analysis reveals that new posts tend to reach the highest level of engagement at 3 p.m. (Eastern Time in the U.S.). At this hour, content tend to get the highest number of the comments from the community."
   ]
  },
  {
   "cell_type": "markdown",
   "metadata": {},
   "source": [
    "## Data preparation\n",
    "\n",
    "We start the analysis by opening and exploring the datafile."
   ]
  },
  {
   "cell_type": "code",
   "execution_count": 1,
   "metadata": {},
   "outputs": [],
   "source": [
    "# open the hacker news file\n",
    "from csv import reader\n",
    "opened = open('hacker_news.csv')\n",
    "read = reader(opened)\n",
    "hn = list(read)"
   ]
  },
  {
   "cell_type": "markdown",
   "metadata": {},
   "source": [
    "In the code below, we show  the dataset columns."
   ]
  },
  {
   "cell_type": "code",
   "execution_count": 2,
   "metadata": {},
   "outputs": [
    {
     "name": "stdout",
     "output_type": "stream",
     "text": [
      "['id', 'title', 'url', 'num_points', 'num_comments', 'author', 'created_at']\n"
     ]
    }
   ],
   "source": [
    "# store the first row as the header and print it\n",
    "hn_header = hn[0]\n",
    "print(hn_header)"
   ]
  },
  {
   "cell_type": "markdown",
   "metadata": {},
   "source": [
    "We have 7 columns:\n",
    "- **'id'**: the identification of the post.\n",
    "- **'title'**: the title of the post.\n",
    "- **'url'**: the url of the post.\n",
    "- **'num_points'**: the total number of points voted upon the post.\n",
    "- **'num_comments'**: number of comments received by the post.\n",
    "- **'author'**: the author name.\n",
    "- **'created_at'**: the date and time of the post."
   ]
  },
  {
   "cell_type": "markdown",
   "metadata": {},
   "source": [
    "Then, we remove the column names and verify the total number of entries."
   ]
  },
  {
   "cell_type": "code",
   "execution_count": 3,
   "metadata": {},
   "outputs": [],
   "source": [
    "# remove the column from the file\n",
    "hn = hn[1:]"
   ]
  },
  {
   "cell_type": "code",
   "execution_count": 4,
   "metadata": {},
   "outputs": [
    {
     "name": "stdout",
     "output_type": "stream",
     "text": [
      "20100\n"
     ]
    }
   ],
   "source": [
    "# verify the number of rows in the dataset\n",
    "num_rows = 0\n",
    "for row in hn:\n",
    "    num_rows += 1\n",
    "    \n",
    "print(num_rows)"
   ]
  },
  {
   "cell_type": "markdown",
   "metadata": {},
   "source": [
    "The datafile includes a total of 20,100 rows. In the code below, we can see the first five rows of the file. All values are of string type."
   ]
  },
  {
   "cell_type": "code",
   "execution_count": 5,
   "metadata": {},
   "outputs": [
    {
     "name": "stdout",
     "output_type": "stream",
     "text": [
      "['12224879', 'Interactive Dynamic Video', 'http://www.interactivedynamicvideo.com/', '386', '52', 'ne0phyte', '8/4/2016 11:52']\n",
      "\n",
      "\n",
      "['10975351', 'How to Use Open Source and Shut the Fuck Up at the Same Time', 'http://hueniverse.com/2016/01/26/how-to-use-open-source-and-shut-the-fuck-up-at-the-same-time/', '39', '10', 'josep2', '1/26/2016 19:30']\n",
      "\n",
      "\n",
      "['11964716', \"Florida DJs May Face Felony for April Fools' Water Joke\", 'http://www.thewire.com/entertainment/2013/04/florida-djs-april-fools-water-joke/63798/', '2', '1', 'vezycash', '6/23/2016 22:20']\n",
      "\n",
      "\n",
      "['11919867', 'Technology ventures: From Idea to Enterprise', 'https://www.amazon.com/Technology-Ventures-Enterprise-Thomas-Byers/dp/0073523429', '3', '1', 'hswarna', '6/17/2016 0:01']\n",
      "\n",
      "\n",
      "['10301696', 'Note by Note: The Making of Steinway L1037 (2007)', 'http://www.nytimes.com/2007/11/07/movies/07stein.html?_r=0', '8', '2', 'walterbell', '9/30/2015 4:12']\n",
      "\n",
      "\n"
     ]
    }
   ],
   "source": [
    "# display the first 5 rows of the dataset\n",
    "for row in hn[:5]:\n",
    "    print(row)\n",
    "    print(\"\\n\")"
   ]
  },
  {
   "cell_type": "markdown",
   "metadata": {},
   "source": [
    "We then check if there is any post without comments. We can see below that the datafile includes only posts that has at least one comment."
   ]
  },
  {
   "cell_type": "code",
   "execution_count": 6,
   "metadata": {},
   "outputs": [
    {
     "name": "stdout",
     "output_type": "stream",
     "text": [
      "0\n"
     ]
    }
   ],
   "source": [
    "# verify the number of entries with no comments\n",
    "num_zero_comment = 0\n",
    "for row in hn:\n",
    "    comment = int(row[4])\n",
    "    if comment == 0:\n",
    "        num_zero_comment += 1\n",
    "        \n",
    "print(num_zero_comment)"
   ]
  },
  {
   "cell_type": "markdown",
   "metadata": {},
   "source": [
    "## Analysis\n",
    "\n",
    "The Hacker News website allows for different types of posts.\n",
    "- **Ask Posts** are the ones with questions asked to the community.\n",
    "- **Show Posts** include projects, news or products.\n",
    "- **Other Projects** comprise any other type of posts.\n",
    "\n",
    "Next, we split the dataset in three, according to the type of post."
   ]
  },
  {
   "cell_type": "code",
   "execution_count": 7,
   "metadata": {},
   "outputs": [],
   "source": [
    "# create three separate lists with different types of entries: Ask HN, Show HN and other rows.\n",
    "ask_posts = []\n",
    "show_posts = []\n",
    "other_posts = []\n",
    "for row in hn:\n",
    "    title = row[1]\n",
    "    if title.lower().startswith('ask hn'):\n",
    "        ask_posts.append(row)\n",
    "        \n",
    "    elif title.lower().startswith('show hn'):\n",
    "        show_posts.append(row)\n",
    "        \n",
    "    else:\n",
    "        other_posts.append(row)"
   ]
  },
  {
   "cell_type": "code",
   "execution_count": 8,
   "metadata": {},
   "outputs": [
    {
     "name": "stdout",
     "output_type": "stream",
     "text": [
      "1744 1162 17194\n",
      "20100\n"
     ]
    }
   ],
   "source": [
    "# checking the number of posts in ask_posts, show_posts and other_posts\n",
    "total_ask = 0\n",
    "total_show = 0\n",
    "total_other = 0\n",
    "\n",
    "for row in ask_posts:\n",
    "    total_ask += 1\n",
    "    \n",
    "for row in show_posts:\n",
    "    total_show += 1\n",
    "    \n",
    "for row in other_posts:\n",
    "    total_other += 1\n",
    "    \n",
    "print(total_ask, total_show, total_other) # total number of entries in each list\n",
    "print(total_ask + total_show + total_other)# sum of posts of the three lists should sum up to 20,100"
   ]
  },
  {
   "cell_type": "markdown",
   "metadata": {},
   "source": [
    "Above we see that there are 1,744 Ask Posts, 1,162 Show Posts and 17,194 Other Posts. Therefore, comparing Ask and Show posts, the former encompasses a higher number than the latter.\n",
    "\n",
    "We continue our analysis calculating the average number of comments for Ask and Show posts.\n",
    "\n",
    "### Average Number of Comments per Post Type"
   ]
  },
  {
   "cell_type": "code",
   "execution_count": 9,
   "metadata": {},
   "outputs": [
    {
     "name": "stdout",
     "output_type": "stream",
     "text": [
      "The average number of comments for Ask HN is 14.04\n",
      "The average number of comments for Show HN is 10.32\n"
     ]
    }
   ],
   "source": [
    "# Calculate the average number of comments in ask posts\n",
    "total_ask_comments = 0\n",
    "length = 0\n",
    "for row in ask_posts:\n",
    "    length += 1\n",
    "    num_comments = int(row[4])\n",
    "    total_ask_comments += num_comments\n",
    "\n",
    "avg_ask_comments =  total_ask_comments / length \n",
    "\n",
    "# Calculate the average number of comments in show posts\n",
    "total_show_posts = 0\n",
    "length_show = 0\n",
    "for row in show_posts:\n",
    "    length_show += 1\n",
    "    num_comments_show = int(row[4])\n",
    "    total_show_posts += num_comments_show\n",
    "\n",
    "avg_show_comments = total_show_posts / length_show\n",
    "\n",
    "print('The average number of comments for Ask HN is ' + str(round(avg_ask_comments,2)))\n",
    "print('The average number of comments for Show HN is ' + str(round(avg_show_comments,2)))"
   ]
  },
  {
   "cell_type": "markdown",
   "metadata": {},
   "source": [
    "As we can see above, Ask Posts receive on average more comments than Show Posts. We will focus on Ask Posts to continue our analysis. \n",
    "\n",
    "Next, we create a new list with two information, the date and number of comments per post."
   ]
  },
  {
   "cell_type": "code",
   "execution_count": 10,
   "metadata": {},
   "outputs": [],
   "source": [
    "# create a list of lists of two elements: the date and the number of comments\n",
    "import datetime as dt\n",
    "result_list = []\n",
    "for row in ask_posts:\n",
    "    created_at = row[6]\n",
    "    num_comments = int(row[4])\n",
    "    result_list.append([created_at, num_comments])"
   ]
  },
  {
   "cell_type": "markdown",
   "metadata": {},
   "source": [
    "Then, we calculate the total number of posts per hour and also the total number of comments per hour.\n",
    "\n",
    "### Number of Posts and Comments per Time of the Day"
   ]
  },
  {
   "cell_type": "code",
   "execution_count": 11,
   "metadata": {},
   "outputs": [],
   "source": [
    "# create two dictionaries: number of posts per hour and number of comments per hour\n",
    "counts_by_hour = {}\n",
    "comments_by_hour = {}\n",
    "for row in result_list:\n",
    "    date = row[0]\n",
    "    date_dt = dt.datetime.strptime(date, '%m/%d/%Y %H:%M')\n",
    "    hour = dt.datetime.strftime(date_dt, '%H')\n",
    "    comments = int(row[1])\n",
    "    if hour not in counts_by_hour:\n",
    "        counts_by_hour[hour] = 1\n",
    "        comments_by_hour[hour] = comments\n",
    "        \n",
    "    else:\n",
    "        counts_by_hour[hour] += 1\n",
    "        comments_by_hour[hour] += comments"
   ]
  },
  {
   "cell_type": "code",
   "execution_count": 12,
   "metadata": {
    "scrolled": true
   },
   "outputs": [],
   "source": [
    "# create a list of lists with two elements: first the hour and second the average number of comments\n",
    "avg_by_hour = []\n",
    "for hour in counts_by_hour:\n",
    "    avg_by_hour.append([hour, round((comments_by_hour[hour] / counts_by_hour[hour]), 2)])"
   ]
  },
  {
   "cell_type": "markdown",
   "metadata": {},
   "source": [
    "Below, we print the total number of Ask Posts per hour and the total number of Comments on Ask Posts per hour. We see that 15:00 is the time with the highest number of posts.\n",
    "\n",
    "#### Posts per Time of the Day"
   ]
  },
  {
   "cell_type": "code",
   "execution_count": 13,
   "metadata": {
    "scrolled": false
   },
   "outputs": [
    {
     "data": {
      "text/plain": [
       "{'09': 45,\n",
       " '13': 85,\n",
       " '10': 59,\n",
       " '14': 107,\n",
       " '16': 108,\n",
       " '23': 68,\n",
       " '12': 73,\n",
       " '17': 100,\n",
       " '15': 116,\n",
       " '21': 109,\n",
       " '20': 80,\n",
       " '02': 58,\n",
       " '18': 109,\n",
       " '03': 54,\n",
       " '05': 46,\n",
       " '19': 110,\n",
       " '01': 60,\n",
       " '22': 71,\n",
       " '08': 48,\n",
       " '04': 47,\n",
       " '00': 55,\n",
       " '06': 44,\n",
       " '07': 34,\n",
       " '11': 58}"
      ]
     },
     "execution_count": 13,
     "metadata": {},
     "output_type": "execute_result"
    }
   ],
   "source": [
    "# print counts by hour\n",
    "counts_by_hour"
   ]
  },
  {
   "cell_type": "markdown",
   "metadata": {},
   "source": [
    "And with the highest number of comments in one hour.\n",
    "\n",
    "#### Comments per Time of the Day"
   ]
  },
  {
   "cell_type": "code",
   "execution_count": 14,
   "metadata": {
    "scrolled": true
   },
   "outputs": [
    {
     "data": {
      "text/plain": [
       "{'09': 251,\n",
       " '13': 1253,\n",
       " '10': 793,\n",
       " '14': 1416,\n",
       " '16': 1814,\n",
       " '23': 543,\n",
       " '12': 687,\n",
       " '17': 1146,\n",
       " '15': 4477,\n",
       " '21': 1745,\n",
       " '20': 1722,\n",
       " '02': 1381,\n",
       " '18': 1439,\n",
       " '03': 421,\n",
       " '05': 464,\n",
       " '19': 1188,\n",
       " '01': 683,\n",
       " '22': 479,\n",
       " '08': 492,\n",
       " '04': 337,\n",
       " '00': 447,\n",
       " '06': 397,\n",
       " '07': 267,\n",
       " '11': 641}"
      ]
     },
     "execution_count": 14,
     "metadata": {},
     "output_type": "execute_result"
    }
   ],
   "source": [
    "# print comments by hour\n",
    "comments_by_hour"
   ]
  },
  {
   "cell_type": "markdown",
   "metadata": {},
   "source": [
    "Below, we calculate the average number of comments by hour. The highest number of comments is reached at 15:00,  38.59 comments on average.\n",
    "\n",
    "### Average Number of Comments per Time of the Day"
   ]
  },
  {
   "cell_type": "code",
   "execution_count": 15,
   "metadata": {
    "scrolled": true
   },
   "outputs": [
    {
     "name": "stdout",
     "output_type": "stream",
     "text": [
      "['09', 5.58]\n",
      "['13', 14.74]\n",
      "['10', 13.44]\n",
      "['14', 13.23]\n",
      "['16', 16.8]\n",
      "['23', 7.99]\n",
      "['12', 9.41]\n",
      "['17', 11.46]\n",
      "['15', 38.59]\n",
      "['21', 16.01]\n",
      "['20', 21.52]\n",
      "['02', 23.81]\n",
      "['18', 13.2]\n",
      "['03', 7.8]\n",
      "['05', 10.09]\n",
      "['19', 10.8]\n",
      "['01', 11.38]\n",
      "['22', 6.75]\n",
      "['08', 10.25]\n",
      "['04', 7.17]\n",
      "['00', 8.13]\n",
      "['06', 9.02]\n",
      "['07', 7.85]\n",
      "['11', 11.05]\n"
     ]
    }
   ],
   "source": [
    "# print avg_by_hour\n",
    "for hour in avg_by_hour:\n",
    "    print(hour)"
   ]
  },
  {
   "cell_type": "markdown",
   "metadata": {},
   "source": [
    "We can also sort the hours according to the average number of comments. To do that, we start by creating a new list including two elements, the average number of comments and the hour."
   ]
  },
  {
   "cell_type": "code",
   "execution_count": 16,
   "metadata": {
    "scrolled": true
   },
   "outputs": [
    {
     "name": "stdout",
     "output_type": "stream",
     "text": [
      "[[5.58, '09'], [14.74, '13'], [13.44, '10'], [13.23, '14'], [16.8, '16'], [7.99, '23'], [9.41, '12'], [11.46, '17'], [38.59, '15'], [16.01, '21'], [21.52, '20'], [23.81, '02'], [13.2, '18'], [7.8, '03'], [10.09, '05'], [10.8, '19'], [11.38, '01'], [6.75, '22'], [10.25, '08'], [7.17, '04'], [8.13, '00'], [9.02, '06'], [7.85, '07'], [11.05, '11']]\n"
     ]
    }
   ],
   "source": [
    "# sort list according to average number of comments\n",
    "swap_avg_by_hour = []\n",
    "for row in avg_by_hour:\n",
    "    swap_avg_by_hour.append([row[1], row[0]])\n",
    "    \n",
    "print(swap_avg_by_hour)"
   ]
  },
  {
   "cell_type": "markdown",
   "metadata": {},
   "source": [
    "Then, we can order this list according to the average number of comments."
   ]
  },
  {
   "cell_type": "code",
   "execution_count": 17,
   "metadata": {
    "scrolled": true
   },
   "outputs": [],
   "source": [
    "# sort the swaped list according to the average number of comments\n",
    "sorted_swap = sorted(swap_avg_by_hour, reverse = True)"
   ]
  },
  {
   "cell_type": "code",
   "execution_count": 18,
   "metadata": {},
   "outputs": [
    {
     "name": "stdout",
     "output_type": "stream",
     "text": [
      "Top 5 Hours for Ask Posts Comments\n"
     ]
    }
   ],
   "source": [
    "print(\"Top 5 Hours for Ask Posts Comments\")"
   ]
  },
  {
   "cell_type": "markdown",
   "metadata": {},
   "source": [
    "Finally, we print the Top-5 hours with the highest average number of comments. As expected, 15:00 displays the highest average number of comments, 38, followed by 2:00 and 20:00, with 23 and 21 respectivelly."
   ]
  },
  {
   "cell_type": "code",
   "execution_count": 19,
   "metadata": {
    "scrolled": true
   },
   "outputs": [
    {
     "name": "stdout",
     "output_type": "stream",
     "text": [
      "15:00: 38.59 average comments per post\n",
      "02:00: 23.81 average comments per post\n",
      "20:00: 21.52 average comments per post\n",
      "16:00: 16.80 average comments per post\n",
      "21:00: 16.01 average comments per post\n"
     ]
    }
   ],
   "source": [
    "# show the top 5 hours\n",
    "# 15:00: 38.59 average comments per post\n",
    "for item in sorted_swap[:5]:\n",
    "    hour = item[1]\n",
    "    avg = item[0]\n",
    "    format_str = '{}:00: {:.2f} average comments per post'\n",
    "    print(format_str.format(hour, avg))"
   ]
  },
  {
   "cell_type": "markdown",
   "metadata": {},
   "source": [
    "## Conclusion"
   ]
  },
  {
   "cell_type": "markdown",
   "metadata": {},
   "source": [
    "The aim of this project was to shed light on the best moments to post technology content online. This includes finding the best time of the day to capture users attention and generate engagement. Our approach was to analyze a dataset from Hacker News, a popular technology website on which users can post questions and projects.\n",
    "\n",
    "The analysis showed that at 15:00 (Eastern Time in the US) posts tend to generate the highest average number of comments. Therefore, this seems to be a good time of the day for posting content online to engage with the technology community."
   ]
  }
 ],
 "metadata": {
  "kernelspec": {
   "display_name": "Python 3",
   "language": "python",
   "name": "python3"
  },
  "language_info": {
   "codemirror_mode": {
    "name": "ipython",
    "version": 3
   },
   "file_extension": ".py",
   "mimetype": "text/x-python",
   "name": "python",
   "nbconvert_exporter": "python",
   "pygments_lexer": "ipython3",
   "version": "3.7.3"
  }
 },
 "nbformat": 4,
 "nbformat_minor": 2
}
